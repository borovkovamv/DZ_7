{
 "cells": [
  {
   "cell_type": "markdown",
   "metadata": {},
   "source": [
    "# Задание 1\n",
    "Печатные газеты использовали свой формат дат для каждого выпуска. Для каждой газеты из списка напишите формат указанной даты для перевода в объект datetime:\n",
    "\n",
    "The Moscow Times - Wednesday, October 2, 2002\n",
    "\n",
    "The Guardian - Friday, 11.10.13\n",
    "\n",
    "Daily News - Thursday, 18 August 1977\n"
   ]
  },
  {
   "cell_type": "code",
   "execution_count": 5,
   "metadata": {},
   "outputs": [
    {
     "name": "stdout",
     "output_type": "stream",
     "text": [
      "The Moscow Times:  2002-10-02\n",
      "The Guardian:  2013-10-11\n",
      "Daily News:  1977-08-18\n"
     ]
    }
   ],
   "source": [
    "from datetime import datetime as dt\n",
    "print('The Moscow Times: ', dt.strptime('Wednesday, October 2, 2002', '%A, %B %d, %Y').date())\n",
    "print('The Guardian: ', dt.strptime('Friday, 11.10.13', '%A, %d.%m.%y').date())\n",
    "print('Daily News: ', dt.strptime('Thursday, 18 August 1977', '%A, %d %B %Y').date())"
   ]
  },
  {
   "cell_type": "markdown",
   "metadata": {},
   "source": [
    "# Задание 2\n",
    "Дан поток дат в формате YYYY-MM-DD, в которых встречаются некорректные значения:\n",
    "stream = ['2018-04-02', '2018-02-29', '2018-19-02']\n",
    "\n",
    "Напишите функцию, которая проверяет эти даты на корректность. Т. е. для каждой даты возвращает True (дата корректна) или False (некорректная дата). "
   ]
  },
  {
   "cell_type": "code",
   "execution_count": 7,
   "metadata": {},
   "outputs": [],
   "source": [
    "def correct_date(my_date_ls):\n",
    "    from datetime import datetime as dt\n",
    "    fomat_ = '%Y-%m-%d'\n",
    "    for item in my_date_ls:\n",
    "        try:\n",
    "            dt.strptime(item, fomat_)\n",
    "            print(True)\n",
    "        except:\n",
    "            print(False)"
   ]
  },
  {
   "cell_type": "code",
   "execution_count": 8,
   "metadata": {},
   "outputs": [
    {
     "name": "stdout",
     "output_type": "stream",
     "text": [
      "True\n",
      "False\n",
      "False\n"
     ]
    }
   ],
   "source": [
    "stream = ['2018-04-02', '2018-02-29', '2018-19-02']\n",
    "correct_date(stream)"
   ]
  },
  {
   "cell_type": "markdown",
   "metadata": {},
   "source": [
    "# Задание 3\n",
    "Напишите функцию date_range, которая возвращает список дат за период от start_date до end_date. Даты должны вводиться в формате YYYY-MM-DD. В случае неверного формата или при start_date > end_date должен возвращаться пустой список."
   ]
  },
  {
   "cell_type": "code",
   "execution_count": 3,
   "metadata": {},
   "outputs": [],
   "source": [
    "def date_range(start_date, end_date):\n",
    "    from datetime import datetime\n",
    "    from datetime import timedelta\n",
    "    my_list = []\n",
    "    try:\n",
    "        start_date = datetime.strptime(start_date, '%Y-%m-%d')\n",
    "        end_date = datetime.strptime(end_date, '%Y-%m-%d')        \n",
    "    except:\n",
    "        return my_list\n",
    "    if start_date > end_date:\n",
    "        return my_list\n",
    "    \n",
    "    while start_date <= end_date:\n",
    "        my_list.append(start_date.date())\n",
    "        start_date += timedelta(days=1)\n",
    "    return my_list"
   ]
  },
  {
   "cell_type": "code",
   "execution_count": 4,
   "metadata": {},
   "outputs": [
    {
     "name": "stdout",
     "output_type": "stream",
     "text": [
      "Введите дату начала: 2020-01-01\n",
      "Введите дату окончания: 2020-01-05\n"
     ]
    },
    {
     "data": {
      "text/plain": [
       "[datetime.date(2020, 1, 1),\n",
       " datetime.date(2020, 1, 2),\n",
       " datetime.date(2020, 1, 3),\n",
       " datetime.date(2020, 1, 4),\n",
       " datetime.date(2020, 1, 5)]"
      ]
     },
     "execution_count": 4,
     "metadata": {},
     "output_type": "execute_result"
    }
   ],
   "source": [
    "start_date = input('Введите дату начала: ')\n",
    "end_date = input('Введите дату окончания: ')\n",
    "mylistdate = date_range(start_date, end_date)\n",
    "mylistdate"
   ]
  },
  {
   "cell_type": "markdown",
   "metadata": {},
   "source": [
    "# Задание 4 (бонусное)\n",
    "Ваш коллега прислал код функции:\n",
    "\n",
    "DEFAULT_USER_COUNT = 3\n",
    "\n",
    "def delete_and_return_last_user(region, default_list=['A100', 'A101', 'A102']):\n",
    "    \"\"\"\n",
    "    Удаляет из списка default_list последнего пользователя \n",
    "    и возвращает ID нового последнего пользователя.\n",
    "    \"\"\"\n",
    "    element_to_delete = default_list[-1]\n",
    "    default_list.remove(element_to_delete)\n",
    "    \n",
    "    return default_list[DEFAULT_USER_COUNT-2]\n",
    "\n",
    "При однократном вызове этой функции все работает корректно:\n",
    "delete_and_return_last_user(1)\n",
    "'A101'\n",
    "\n",
    "Однако, при повторном вызове получается ошибка IndexError: list index out of range.\n",
    "\n",
    "Задание:\n",
    "1. Что значит ошибка list index out of range?\n",
    "2. Почему при первом запуске функция работает корректно, а при втором - нет?\n"
   ]
  },
  {
   "cell_type": "markdown",
   "metadata": {},
   "source": [
    "1. Индекс не входит в диапозон списка, т.к. обращение к элементу списка по индексу, которого нет.\n",
    "2. Глобальная перменная DEFAULT_USER_COUNT = 3 и функция будет всегда возвращать элемент списка с индексом 1. При первом запуске в списке 2 элемента, функция отработает и вернет элемент с индеком 1. Но при втором запуске в списке останется только 1 элемент с индексом = 0, при попытке обратится к элементу с индексом = 1 возникнет ошибка - такого элемента нет в списке."
   ]
  }
 ],
 "metadata": {
  "kernelspec": {
   "display_name": "Python 3",
   "language": "python",
   "name": "python3"
  },
  "language_info": {
   "codemirror_mode": {
    "name": "ipython",
    "version": 3
   },
   "file_extension": ".py",
   "mimetype": "text/x-python",
   "name": "python",
   "nbconvert_exporter": "python",
   "pygments_lexer": "ipython3",
   "version": "3.7.6"
  }
 },
 "nbformat": 4,
 "nbformat_minor": 4
}
